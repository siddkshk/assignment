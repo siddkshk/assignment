{
 "cells": [
  {
   "cell_type": "code",
   "execution_count": 1,
   "id": "9261987d",
   "metadata": {},
   "outputs": [],
   "source": [
    "import pandas as pd\n",
    "import numpy as np\n",
    "\n",
    "from sklearn.model_selection import train_test_split\n",
    "from sklearn.linear_model import LogisticRegression\n",
    "from sklearn import metrics\n",
    "from sklearn.metrics import accuracy_score\n",
    "from sklearn.preprocessing import StandardScaler, LabelEncoder"
   ]
  },
  {
   "cell_type": "code",
   "execution_count": 2,
   "id": "c764e270",
   "metadata": {},
   "outputs": [],
   "source": [
    "df  = pd.read_csv('data.csv')\n",
    "df['diagnosis'].value_counts()\n",
    "df.drop(['Unnamed: 32'],axis = 1,inplace=True)\n",
    "label = LabelEncoder()\n",
    "df['diagnosis'] = label.fit_transform(df['diagnosis'])\n",
    "x = df.drop(['diagnosis'],axis = 1)\n",
    "y = df['diagnosis']\n",
    "x_train, x_test, y_train, y_test = train_test_split(x,y, test_size=0.2, random_state=0)\n",
    "sc = StandardScaler()\n",
    "x_train = sc.fit_transform(x_train)\n",
    "x_test = sc.transform(x_test)"
   ]
  },
  {
   "cell_type": "code",
   "execution_count": 3,
   "id": "98c00796",
   "metadata": {},
   "outputs": [
    {
     "name": "stdout",
     "output_type": "stream",
     "text": [
      "Accuracy Is :  96.49122807017544\n"
     ]
    }
   ],
   "source": [
    "def models(mod,x_t,y_t,x_tes,y_tes,x_source,y_source):\n",
    "    mod.fit(x_t,y_t)\n",
    "    pred = mod.predict(x_tes)\n",
    "    accuracy = accuracy_score(y_tes,pred)\n",
    "    print(\"Accuracy Is : \",accuracy*100)    \n",
    "    \n",
    "model = LogisticRegression(C=1.0, class_weight=None, dual=False, fit_intercept=True,intercept_scaling=1, l1_ratio=None, \n",
    "                           max_iter=1500,multi_class='auto', n_jobs=None, penalty='l2',random_state=123, solver='lbfgs', \n",
    "                           tol=0.0001, verbose=0,warm_start=False)\n",
    "\n",
    "models(model,x_train,y_train,x_test,y_test,x,y )    "
   ]
  }
 ],
 "metadata": {
  "kernelspec": {
   "display_name": "Python 3",
   "language": "python",
   "name": "python3"
  },
  "language_info": {
   "codemirror_mode": {
    "name": "ipython",
    "version": 3
   },
   "file_extension": ".py",
   "mimetype": "text/x-python",
   "name": "python",
   "nbconvert_exporter": "python",
   "pygments_lexer": "ipython3",
   "version": "3.9.5"
  }
 },
 "nbformat": 4,
 "nbformat_minor": 5
}
